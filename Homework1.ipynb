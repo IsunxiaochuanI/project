{
 "cells": [
  {
   "cell_type": "markdown",
   "metadata": {},
   "source": [
    "# Section 1 : Python\n",
    "## Instructions\n",
    "### Description\n",
    "Below are a random assortment of exercises to practice using Python, some fairly trivial, and and\n",
    "some more challenging.\n",
    "### Instructions\n",
    "In each problem, you are given a sample input in one cell, and asked to create code in the\n",
    "following cell to process the input in some way. You are encouraged to create functions when appropiate to solve any of these just\n",
    "a few lines of code using the variable provided in the input cell.\n",
    "\n",
    "Unless specified, you are free to solve the problems in any way you are comfortable, including\n",
    "using Python libraries you are familiar with (but all of these are solvable just using Python's builtin\n",
    "features, plus maybe the math library). The more concise your solution, the better (in general)\n",
    "and easier for us to grade!\n",
    "\n",
    "### Grading\n",
    "For grading purposes, we will clear all outputs from all your cells and then run them all from the\n",
    "top. Please test your notebook in the same fashion before turning it in.\n",
    "\n",
    "### Submitting Your Solution\n",
    "To submit your notebook, first clear all the cells. Then use the File>\n",
    "Download As>\n",
    "Notebook to obtain the notebook file. Finally, submit the notebook file on blackboard. \n",
    "\n",
    "Hints\n",
    "- The sample inputs we give you below may be hard to work with. Open up new cells in this or another notebook and test simpler inputs, if needed, to make debugging easier.\n",
    "\n",
    "- Often times Python provides a builtin function or library to make tasks easier. Spend some time in the Python docs (or Google) searching for what you need.\n",
    "- While comprehensions, slices, and other Python \"goodies\" often provide the most elegant solution, it is often easier (when used to other languages) to start with a for loop solution, and then migrate that solution."
   ]
  },
  {
   "cell_type": "markdown",
   "metadata": {},
   "source": [
    "### Problem 1: Alignment (10 points)\n",
    "Given a list of items named original and a list of lists of the same size named alllists,\n",
    "determine which (if any) of the lists are rotations of the original list. A rotation occurs when some\n",
    "number of elements are removed from the front of the list and appended to the back of the list,\n",
    "e.g. the following are all rotations of the same list:\n",
    "<code>\n",
    "    [1,2,3,4]\n",
    "    [2,3,4,1]\n",
    "    [3,4,1,2]\n",
    "    [4,1,2,3]\n",
    "    </code>\n",
    "\n",
    "For your solution, create and print a list of Boolean values, where a True value means the\n",
    "corresponding list was a rotation, and a False means the list was not a rotation."
   ]
  },
  {
   "cell_type": "code",
   "execution_count": 3,
   "metadata": {},
   "outputs": [],
   "source": [
    "original = [22, 23, 30, 38, 7, 10, 8, 48, 7, 29, 16, 35, 43, 39, 32, 25, 38, 48, 18, 18]\n",
    "alllists = [\n",
    "[10, 8, 48, 7, 29, 16, 35, 43, 39, 32, 25, 38, 48, 18, 18, 22, 23, 30, 38, 7],\n",
    "[18, 23, 32, 29, 10, 25, 48, 7, 7, 8, 30, 38, 35, 43, 48, 22, 18, 39, 38, 16],\n",
    "[39, 23, 18, 38, 48, 32, 16, 7, 22, 38, 30, 35, 29, 7, 10, 48, 18, 8, 25, 43],\n",
    "[39, 32, 25, 38, 48, 18, 18, 22, 23, 30, 38, 7, 10, 8, 48, 7, 29, 16, 35, 43],\n",
    "[30, 38, 7, 10, 8, 48, 7, 29, 16, 35, 43, 39, 32, 25, 38, 48, 18, 18, 22, 23],\n",
    "[30, 23, 29, 7, 10, 18, 16, 22, 25, 43, 7, 32, 8, 18, 48, 35, 38, 48, 39, 38],\n",
    "[48, 18, 18, 22, 23, 30, 38, 7, 10, 8, 48, 7, 29, 16, 35, 43, 39, 32, 25, 38]\n",
    "]"
   ]
  },
  {
   "cell_type": "code",
   "execution_count": 4,
   "metadata": {},
   "outputs": [],
   "source": [
    "# YOUR SOLUTION HERE"
   ]
  },
  {
   "cell_type": "markdown",
   "metadata": {},
   "source": [
    "### Problem 2: Word Counts (10 points)<br>\n",
    "The string method split can be used to separate a text on specified delimiters, giving you a list\n",
    "of substrings. By default, it separates on whitespace, thus giving you all the individual nonwhitespace\n",
    "substrings in the text. (Don't forget you can do <code>\n",
    "help(str.split)</code>\n",
    "in a cell for more info.)\n",
    "For this problem, take the text in the variable text and make and print a dictionary where each\n",
    "word from the text exists as a key, and where the corresponding values are the number of times\n",
    "the word appears in the text. For now, you can ignore issues of punctuation and case.\n",
    "For example, the text 'it was the best of times it was the worst of times' would result in the output\n",
    "<code>{'it': 2, 'was': 2, 'the': 2, 'worst': 1, 'times': 2, 'best': 1, 'of': 2}</code>"
   ]
  },
  {
   "cell_type": "code",
   "execution_count": null,
   "metadata": {},
   "outputs": [],
   "source": [
    "# From Dr. Seuss's Fox in Socks (punctuation stripped)\n",
    "text = '''\n",
    "through three cheese trees three free fleas flew\n",
    "while these fleas flew freezy breeze blew\n",
    "freezy breeze made these three trees freeze\n",
    "freezy trees made these trees cheese freeze\n",
    "thats what made these three free fleas sneeze'''"
   ]
  },
  {
   "cell_type": "code",
   "execution_count": 5,
   "metadata": {},
   "outputs": [],
   "source": [
    "# YOUR SOLUTION HERE"
   ]
  },
  {
   "cell_type": "markdown",
   "metadata": {},
   "source": [
    "### Problem 3: Comprehensible? (10 points)<br>\n",
    "Note: For this problem you are required to use a list comprehension as part of your\n",
    "solution.\n",
    "You are given a dictionary named d where the keys are words and the values are integers. The\n",
    "output should be a list where each entry is a string containing a key from the dictionary replicated\n",
    "a number of times according to the corresponding value. The output should be in sorted order by\n",
    "key. For example, if the dictionary is <code><br>\n",
    "{'foo' : 3, 'bar' : 2}</code><br>\n",
    "the output should be<code>\n",
    "['barbar', 'foofoofoo']</code>\n",
    "\n",
    "Hint: try \"multiplying\" a sequence (like a string) by an integer using *. See if you can do this one in\n",
    "a single line of code!"
   ]
  },
  {
   "cell_type": "code",
   "execution_count": 13,
   "metadata": {},
   "outputs": [],
   "source": [
    "d = {\n",
    "'apple' : 2,\n",
    "'peach' : 4,\n",
    "'orange' : 1,\n",
    "'banana' : 5,\n",
    "'cherry' : 3\n",
    "}"
   ]
  },
  {
   "cell_type": "code",
   "execution_count": 14,
   "metadata": {},
   "outputs": [],
   "source": [
    "# YOUR SOLUTION HERE"
   ]
  },
  {
   "cell_type": "markdown",
   "metadata": {},
   "source": [
    "### Section 2: Pandas and matplotlib"
   ]
  },
  {
   "cell_type": "code",
   "execution_count": null,
   "metadata": {},
   "outputs": [],
   "source": [
    "## import \"ny-flights.csv.gz\" as a dataframe. Parse the dates. \n",
    "\n",
    "fdata = pd.read_csv(\"ny-flights.csv.gz\",parse_dates=[\"fl_date\",'arr',\"dep\"])\n",
    "fdata.head()"
   ]
  },
  {
   "cell_type": "code",
   "execution_count": 10,
   "metadata": {},
   "outputs": [],
   "source": [
    "## Question 1\n",
    "\n",
    "### Show the destinations of all the flights of the 5 most popular carriers flying from JFK"
   ]
  },
  {
   "cell_type": "code",
   "execution_count": null,
   "metadata": {},
   "outputs": [],
   "source": []
  },
  {
   "cell_type": "code",
   "execution_count": null,
   "metadata": {},
   "outputs": [],
   "source": [
    "## Question 2\n",
    "\n",
    "### Using For-Loop and If-statement, find the smallest number divisible by 7 in the 1D array \"a1\". Do not use any shortcut functions. The code should be able to work with any 1D array of numbers of any length. Automate as much as possible."
   ]
  },
  {
   "cell_type": "code",
   "execution_count": null,
   "metadata": {},
   "outputs": [],
   "source": []
  },
  {
   "cell_type": "code",
   "execution_count": null,
   "metadata": {},
   "outputs": [],
   "source": [
    "## Question 3 \n",
    "\n",
    "### Using For-Loop and If-statement, find  all the numbers divisible by 4 in the 2D array \"a2\". Do not use any shortcut functions. The code should be able to work with any 2D array of numbers of any size. Automate as much as possible. All the relevant numbers should be stored in list \"b\". "
   ]
  },
  {
   "cell_type": "code",
   "execution_count": null,
   "metadata": {},
   "outputs": [],
   "source": []
  },
  {
   "cell_type": "code",
   "execution_count": null,
   "metadata": {},
   "outputs": [],
   "source": [
    "## Question 4\n",
    "\n",
    "### Using For-Loop and If-statement, find the highest number divisible by both 3 and 6 in the 2D array \"a2\". Do not use any shortcut functions. The code should be able to work with any 2D array of numbers of any size. Automate as much as possible."
   ]
  },
  {
   "cell_type": "code",
   "execution_count": null,
   "metadata": {},
   "outputs": [],
   "source": []
  },
  {
   "cell_type": "code",
   "execution_count": null,
   "metadata": {},
   "outputs": [],
   "source": [
    "## Question 5\n",
    "\n",
    "### Without using For-Loop and If-statement, find the highest number divisible by both 3 and 6 in the 2D array \"a2\". Use masking and slicing. Solve the problem in a single line of code. "
   ]
  },
  {
   "cell_type": "code",
   "execution_count": null,
   "metadata": {},
   "outputs": [],
   "source": [
    "## Question 6\n",
    "\n",
    "### Using For-Loop statement, read the list \"l1\" and print the following. This needs to be done in 2 lines of code. Ensure there is no space between the number and the \"th\""
   ]
  },
  {
   "cell_type": "code",
   "execution_count": 11,
   "metadata": {},
   "outputs": [],
   "source": [
    "l1 = ['one', 2, 'three', [1,2,3,4,5], 3+2]\n"
   ]
  },
  {
   "attachments": {
    "image.png": {
     "image/png": "[encoded data removed]"
    }
   },
   "cell_type": "markdown",
   "metadata": {},
   "source": [
    "![image.png](attachment:image.png)"
   ]
  },
  {
   "cell_type": "code",
   "execution_count": 12,
   "metadata": {},
   "outputs": [],
   "source": [
    "## Question 7\n",
    "\n",
    "### Using For-Loop statement, print the following multiplication table. This needs to be done in 2 lines of code."
   ]
  },
  {
   "cell_type": "code",
   "execution_count": null,
   "metadata": {},
   "outputs": [],
   "source": []
  }
 ],
 "metadata": {
  "kernelspec": {
   "display_name": "Python 3",
   "language": "python",
   "name": "python3"
  },
  "language_info": {
   "codemirror_mode": {
    "name": "ipython",
    "version": 3
   },
   "file_extension": ".py",
   "mimetype": "text/x-python",
   "name": "python",
   "nbconvert_exporter": "python",
   "pygments_lexer": "ipython3",
   "version": "3.8.5"
  }
 },
 "nbformat": 4,
 "nbformat_minor": 4
}
